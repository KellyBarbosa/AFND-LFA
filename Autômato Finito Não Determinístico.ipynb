{
 "cells": [
  {
   "cell_type": "markdown",
   "id": "de573c0b",
   "metadata": {},
   "source": [
    "# AFND\n",
    "\n",
    "O algoritmo a seguir foi implementado na linguagem python para simular um Autômato Finito Não Determinístico (AFND). Neste, utilizou-se a funcionalidade dicionário da linguagem python a qual gera uma tabela hash para armazenar as regras de transição do AFND. \n",
    "\n",
    "O algoritmo para reconhecimento de palavras foi implementado seguindo as instruções contidas no documento informativo fornecido. Neste sentido, declarou-se durante o programa as variáveis necessárias de acordo com o exemplo de entrada fornecido.\n",
    "\n",
    "No AFND, pode-se haver mais de uma transição possível para cada símbolo a partir de um determinado estado. Dessa maneira, deve-se percorrer toda a palavra realizando todas as transições possíveis e está será reconhida pelo AFND quando ao percorrer toda à palavra a mesma se encerrar em um estado final. \n",
    "\n",
    "Assim, foi construída um função chamada 'testaPalavra' a qual recebe uma palavra e retorna a variável 'pValida' contendo o valor 'True' ou 'False' e fora desta função realiza-se o tratamento do que deve ser apresentado de acordo com o retorno. Nesta, para cada letra de cada palavra as possíveis transições foram armazenadas em 'destinos' e este por sua vez atualiza o valor de 'estadoAtual' a cada nova letra. Por fim, ao finalizar as transições possíveis da palavra verifica-se se 'estadoAtual' está presente nos estados finais. Sendo que, nas palavras reconhecidas pelo AFND, a saída para o usuário é 'S'. Já nas palavras não reconhecidas pelo AFND, a saída é 'N'."
   ]
  },
  {
   "cell_type": "code",
   "execution_count": null,
   "id": "ce25f4e8",
   "metadata": {},
   "outputs": [],
   "source": [
    "afnd = {}\n",
    "\n",
    "estados = input().split(\" \")\n",
    "for estado in estados:\n",
    "    afnd[estado] = {}\n",
    "\n",
    "simbolos = input().split(\" \")\n",
    "nTransicoes = int(input())\n",
    "\n",
    "for i in range(0,nTransicoes):\n",
    "    o, c, d = input().split(\" \")\n",
    "    if c not in afnd[o]:\n",
    "        afnd[o][c] = []\n",
    "    afnd[o][c].append(d)\n",
    "\n",
    "estadoInicial = input()\n",
    "estadosFinais = input().split(\" \")\n",
    "palavras = input().split(\" \")\n",
    "\n",
    "def testaPalavra(palavra):\n",
    "    estadoAtual = [estadoInicial]\n",
    "    pValida = False\n",
    "    \n",
    "    for letra in palavra:\n",
    "        destinos = []\n",
    "        for i in estadoAtual:\n",
    "            if(afnd[i].get(letra)):\n",
    "                for j in range(0,len(afnd[i][letra])):\n",
    "                    if(afnd[i][letra] not in destinos):\n",
    "                        destinos.append(afnd[i][letra][j])\n",
    "        estadoAtual = destinos\n",
    "    for i in estadoAtual:\n",
    "        if i in estadosFinais:\n",
    "            pValida = True\n",
    "    return pValida\n",
    "\n",
    "for palavra in palavras:   \n",
    "    if  testaPalavra(palavra):\n",
    "        print('S')\n",
    "    else:\n",
    "        print('N')"
   ]
  }
 ],
 "metadata": {
  "kernelspec": {
   "display_name": "Python 3 (ipykernel)",
   "language": "python",
   "name": "python3"
  },
  "language_info": {
   "codemirror_mode": {
    "name": "ipython",
    "version": 3
   },
   "file_extension": ".py",
   "mimetype": "text/x-python",
   "name": "python",
   "nbconvert_exporter": "python",
   "pygments_lexer": "ipython3",
   "version": "3.9.7"
  }
 },
 "nbformat": 4,
 "nbformat_minor": 5
}
